{
 "cells": [
  {
   "cell_type": "code",
   "execution_count": 145,
   "id": "b5dfe906",
   "metadata": {},
   "outputs": [],
   "source": [
    "from manim import *"
   ]
  },
  {
   "attachments": {},
   "cell_type": "markdown",
   "id": "3b290899",
   "metadata": {},
   "source": [
    "# 定位和移动\n",
    "\n",
    "这里有点像绝对路径和相对路径\n",
    "\n",
    "新创建的对象默认在中心点位置\n",
    "\n",
    "`move_to`是按照中心点移动\n",
    "\n",
    "`shift` 是按照自身移动\n",
    "\n",
    "`to_edge` 这个方法用来做字母或者标题挺不错的\n"
   ]
  },
  {
   "cell_type": "code",
   "execution_count": 146,
   "id": "4a41d422",
   "metadata": {},
   "outputs": [
    {
     "name": "stderr",
     "output_type": "stream",
     "text": [
      "                                                                                   \r"
     ]
    },
    {
     "data": {
      "text/html": [
       "<video src=\"media\\jupyter\\test1@2022-12-21@19-31-03.mp4\" controls autoplay loop style=\"max-width: 60%;\"  >\n",
       "      Your browser does not support the <code>video</code> element.\n",
       "    </video>"
      ],
      "text/plain": [
       "<IPython.core.display.Video object>"
      ]
     },
     "metadata": {},
     "output_type": "display_data"
    }
   ],
   "source": [
    "%%manim -qh -v WARNING test1\n",
    "\n",
    "class test1(Scene):\n",
    "   def construct(self):\n",
    "      numberplane = NumberPlane() # gl里是grid()对象\n",
    "      self.add(numberplane)\n",
    "      title = Text(\"UP\",color=WHITE).to_edge(UP)\n",
    "      title1 = Text(\"DOWN\",color=WHITE).to_edge(DOWN)\n",
    "      title2 = Text(\"LEFT\",color=WHITE).to_edge(LEFT)\n",
    "      title3 = Text(\"RIGHT\",color=WHITE).to_edge(RIGHT)\n",
    "      self.add(title,title1,title2,title3)\n",
    "      dot = Dot(color = RED)\n",
    "      self.add(dot)\n",
    "      self.play(dot.animate.shift(LEFT*3))   # shift是参照自身点移动\n",
    "      self.wait()\n",
    "      self.play(dot.animate.move_to(RIGHT*3)) # move_to是参照中心点移动\n",
    "      self.wait()\n",
    "      "
   ]
  },
  {
   "attachments": {},
   "cell_type": "markdown",
   "id": "63262282",
   "metadata": {},
   "source": [
    "# VGroup\n",
    "\n",
    "创建的对象整体移动和单独移动\n",
    "\n",
    "注意vg里面的全部都是vmobjects\n",
    "\n",
    "三角形往右移动的时候微微往下\n",
    "\n",
    "这是因为一开始按照上边距对齐\n",
    "\n",
    "调用move_to之后就变成了中心点对齐了"
   ]
  },
  {
   "cell_type": "code",
   "execution_count": 147,
   "id": "f06b4dd3",
   "metadata": {},
   "outputs": [
    {
     "name": "stderr",
     "output_type": "stream",
     "text": [
      "                                                                                             \r"
     ]
    },
    {
     "data": {
      "text/html": [
       "<video src=\"media\\jupyter\\test2@2022-12-21@19-31-03.mp4\" controls autoplay loop style=\"max-width: 60%;\"  >\n",
       "      Your browser does not support the <code>video</code> element.\n",
       "    </video>"
      ],
      "text/plain": [
       "<IPython.core.display.Video object>"
      ]
     },
     "metadata": {},
     "output_type": "display_data"
    }
   ],
   "source": [
    "%%manim -qh -v WARNING test2\n",
    "\n",
    "class test2(Scene):\n",
    "   def construct(self):\n",
    "      c = Circle()\n",
    "      s = Square()\n",
    "      t = Triangle()\n",
    "      vg = VGroup(\n",
    "         c,\n",
    "         s,\n",
    "         t\n",
    "      )\n",
    "      self.play(vg.animate.shift(LEFT*4))\n",
    "      self.wait()\n",
    "      self.play(vg[0].animate.move_to(RIGHT*3))\n",
    "      self.play(vg[1].animate.move_to(ORIGIN))\n",
    "      self.play(vg[2].animate.move_to(LEFT*3))\n",
    "      self.play(vg[1].animate.shift(UP*2))\n",
    "      self.play(vg[1].animate.shift(DOWN*2))\n",
    "      #vg.arrange(DOWN) \n",
    "      self.wait()\n",
    "      "
   ]
  },
  {
   "attachments": {},
   "cell_type": "markdown",
   "id": "324e90d0",
   "metadata": {},
   "source": [
    "# 排列和对齐\n",
    "\n",
    "先创建一组vg对象\n",
    "\n",
    "然后我在三角形下面创造一个三角形\n",
    "\n",
    "`next_to`  按照目标位置排列\n",
    "\n",
    "`aligned_edge`  按照某个点去对齐"
   ]
  },
  {
   "cell_type": "code",
   "execution_count": 148,
   "id": "eec53b7e",
   "metadata": {},
   "outputs": [
    {
     "name": "stderr",
     "output_type": "stream",
     "text": [
      "                                                                                             \r"
     ]
    },
    {
     "data": {
      "text/html": [
       "<video src=\"media\\jupyter\\test3@2022-12-21@19-31-03.mp4\" controls autoplay loop style=\"max-width: 60%;\"  >\n",
       "      Your browser does not support the <code>video</code> element.\n",
       "    </video>"
      ],
      "text/plain": [
       "<IPython.core.display.Video object>"
      ]
     },
     "metadata": {},
     "output_type": "display_data"
    }
   ],
   "source": [
    "%%manim -qh -v WARNING test3\n",
    "\n",
    "class test3(Scene):\n",
    "   def construct(self):\n",
    "      c = Circle()\n",
    "      s = Square()\n",
    "      t = Triangle()\n",
    "      vg = VGroup(\n",
    "         c,\n",
    "         s,\n",
    "         t\n",
    "      )\n",
    "\n",
    "      # 从左往右排列\n",
    "      vg.arrange(RIGHT) \n",
    "      self.add(vg)\n",
    "      self.play(vg.animate.shift(UP))\n",
    "      self.wait()\n",
    "      t2 = Triangle()\n",
    "      t2.next_to(vg[2],direction=DOWN,aligned_edge=LEFT)\n",
    "\n",
    "      self.add(t2)\n",
    "      self.wait()"
   ]
  },
  {
   "attachments": {},
   "cell_type": "markdown",
   "id": "8e6fcd2d",
   "metadata": {},
   "source": [
    "# 继承 多态 封装\n",
    "\n",
    "这个比较好理解了\n",
    "\n",
    "一个`Dot()`点 我们可以理解成一个`Circle()`圆填充满就行了\n",
    "\n",
    "一个`Sector()`扇形 我们可以理解成一个`Arc()`弧的填充\n",
    "\n",
    "一条`Dashed()`虚线 可以理解很多段`Line()`\n",
    "\n"
   ]
  }
 ],
 "metadata": {
  "kernelspec": {
   "display_name": "Python 3",
   "language": "python",
   "name": "python3"
  },
  "language_info": {
   "codemirror_mode": {
    "name": "ipython",
    "version": 3
   },
   "file_extension": ".py",
   "mimetype": "text/x-python",
   "name": "python",
   "nbconvert_exporter": "python",
   "pygments_lexer": "ipython3",
   "version": "3.10.9"
  },
  "vscode": {
   "interpreter": {
    "hash": "3196968d684371006099b3d55edeef8ed90365227a30deaef86e5d4aa8519be0"
   }
  }
 },
 "nbformat": 4,
 "nbformat_minor": 5
}
